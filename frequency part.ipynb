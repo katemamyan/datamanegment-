{
 "cells": [
  {
   "cell_type": "code",
   "execution_count": 25,
   "metadata": {},
   "outputs": [],
   "source": [
    "from collections import Counter\n",
    "import numpy as np\n",
    "import pandas as pd\n",
    "import math\n",
    "import re"
   ]
  },
  {
   "cell_type": "code",
   "execution_count": 4,
   "metadata": {},
   "outputs": [],
   "source": [
    "lat = ['a', 'b', 'c', 'd', 'e', 'f', 'g', 'h', 'i', 'j', 'k', 'l', 'm', \n",
    "       'n', 'o', 'p', 'q', 'r', 's', 't', 'u', 'v', 'w', 'x', 'y', 'z']"
   ]
  },
  {
   "cell_type": "code",
   "execution_count": 5,
   "metadata": {},
   "outputs": [],
   "source": [
    "kir = ['а', 'б', 'в', 'г', 'д', 'е', 'ё', 'ж', 'з', 'и', 'й', 'к', 'л', 'м', 'н', 'о', \n",
    "       'п', 'р', 'с', 'т', 'у', 'ф', 'х', 'ц', 'ч', 'ш', 'щ', 'ъ', 'ы', 'ь', 'э', 'ю', 'я']"
   ]
  },
  {
   "cell_type": "code",
   "execution_count": 6,
   "metadata": {},
   "outputs": [],
   "source": [
    "arm = ['ա', 'բ', 'գ', 'դ', 'ե', 'զ', 'է', 'ը', 'թ', 'ժ', 'ի', 'լ', 'խ', \n",
    "       'ծ', 'կ', 'հ', 'ձ', 'ղ', 'ճ', 'մ', 'յ', 'ն', 'շ', 'ո', 'չ', 'պ', \n",
    "       'ջ', 'ռ', 'ս', 'վ', 'տ', 'ր', 'ց', 'ւ', 'փ', 'ք', 'և', 'օ', 'ֆ']"
   ]
  },
  {
   "cell_type": "code",
   "execution_count": 7,
   "metadata": {},
   "outputs": [],
   "source": [
    "#функция, принимающая на вход excel-file и возвращающая словарь со значениями частот для английского,\n",
    "#русского и армянскго языков\n",
    "def freq_dicts_function(file_name, sheet):\n",
    "    df = pd.read_excel(io=file_name, sheet_name=sheet)\n",
    "    let = df['let'].values.tolist()\n",
    "    freq = df['freq'].values.tolist()\n",
    "    return dict(zip(let, freq))"
   ]
  },
  {
   "cell_type": "code",
   "execution_count": 1,
   "metadata": {},
   "outputs": [],
   "source": [
    "#freq_dicts_function(\"D:\\\\KATE\\\\EDUCATION\\\\MAGA\\\\HSE\\\\կուռսաչիկ\\\\корпусы\\\\armenian.xlsx\", 'Лист1')"
   ]
  },
  {
   "cell_type": "code",
   "execution_count": 9,
   "metadata": {},
   "outputs": [
    {
     "name": "stdout",
     "output_type": "stream",
     "text": [
      "{'а': 0.07998, 'б': 0.01592, 'в': 0.04533, 'г': 0.01687, 'д': 0.02977, 'е': 0.08483, 'ё': 0.00013, 'ж': 0.0094, 'з': 0.01641, 'и': 0.07367, 'й': 0.01208, 'к': 0.03486, 'л': 0.04343, 'м': 0.03203, 'н': 0.067, 'о': 0.10983, 'п': 0.02804, 'р': 0.04746, 'с': 0.05473, 'т': 0.06318, 'у': 0.02615, 'ф': 0.00267, 'х': 0.00966, 'ц': 0.00486, 'ч': 0.0145, 'ш': 0.00718, 'щ': 0.00361, 'ъ': 0.00037, 'ы': 0.01898, 'ь': 0.01735, 'э': 0.00331, 'ю': 0.00639, 'я': 0.02001}\n",
      "[0.07998, 0.01592, 0.04533, 0.01687, 0.02977, 0.08483, 0.00013, 0.0094, 0.01641, 0.07367, 0.01208, 0.03486, 0.04343, 0.03203, 0.067, 0.10983, 0.02804, 0.04746, 0.05473, 0.06318, 0.02615, 0.00267, 0.00966, 0.00486, 0.0145, 0.00718, 0.00361, 0.00037, 0.01898, 0.01735, 0.00331, 0.00639, 0.02001]\n"
     ]
    }
   ],
   "source": [
    "aa = freq_dicts_function(\"D:\\\\KATE\\\\EDUCATION\\\\MAGA\\\\HSE\\\\կուռսաչիկ\\\\корпусы\\\\russian.xlsx\", 'Лист1')\n",
    "print(aa)\n",
    "aaa = list(aa.values())\n",
    "print(aaa)"
   ]
  },
  {
   "cell_type": "code",
   "execution_count": 10,
   "metadata": {},
   "outputs": [],
   "source": [
    "#freq_dicts_function(\"D:\\\\KATE\\\\EDUCATION\\\\MAGA\\\\HSE\\\\կուռսաչիկ\\\\корпусы\\\\english.xlsx\", 'Лист1')"
   ]
  },
  {
   "cell_type": "code",
   "execution_count": 29,
   "metadata": {},
   "outputs": [],
   "source": [
    "layouts = {'lat': set(lat),\n",
    "           'kir': set(kir),\n",
    "           'arm': set(arm)}\n",
    "def get_layout(post, layouts):\n",
    "    counter = {lang: 0 for lang in layouts}\n",
    "    for char in post:\n",
    "        for lang, layout in layouts.items():\n",
    "            if char in layout:\n",
    "                counter[lang] += 1\n",
    "    return max(counter, key = lambda lang: counter[lang])"
   ]
  },
  {
   "cell_type": "code",
   "execution_count": 37,
   "metadata": {},
   "outputs": [
    {
     "data": {
      "text/plain": [
       "'arm'"
      ]
     },
     "execution_count": 37,
     "metadata": {},
     "output_type": "execute_result"
    }
   ],
   "source": [
    "get_layout(\" пра գյլդյսլֆ\", layouts)"
   ]
  },
  {
   "cell_type": "code",
   "execution_count": 41,
   "metadata": {},
   "outputs": [],
   "source": [
    "# функция, принимающая на вход строку, и определяющая раскладку, на которой написана данная строка.\n",
    "def get_layout(post):\n",
    "    let_dict = Counter()\n",
    "    for element in post:\n",
    "        x = Counter(element.lower())\n",
    "        let_dict = let_dict + x\n",
    "    num_of_lat=0\n",
    "    num_of_kir=0\n",
    "    num_of_arm=0\n",
    "    for key in let_dict.keys():\n",
    "        if key in lat:\n",
    "            num_of_lat = num_of_lat + let_dict[key]\n",
    "        if key in kir:\n",
    "            num_of_kir = num_of_kir + let_dict[key]\n",
    "        if key in arm:\n",
    "            num_of_arm = num_of_arm + let_dict[key]\n",
    "    if num_of_lat > num_of_arm and num_of_lat > num_of_kir:\n",
    "        result = \"lat_layout\"\n",
    "    if num_of_arm > num_of_lat and num_of_arm > num_of_kir:\n",
    "        result = \"arm_layout\"\n",
    "    if num_of_kir > num_of_arm and num_of_kir > num_of_lat:\n",
    "        result = \"kir_layout\"\n",
    "    return result"
   ]
  },
  {
   "cell_type": "code",
   "execution_count": 27,
   "metadata": {},
   "outputs": [
    {
     "data": {
      "text/plain": [
       "'lat_layout'"
      ]
     },
     "execution_count": 27,
     "metadata": {},
     "output_type": "execute_result"
    }
   ],
   "source": [
    "get_layout(\"ghdlsgjdksfjdjrowytnvxnbv прадыиээц мрешж мралыжвра գյլդյսլֆ\")"
   ]
  },
  {
   "cell_type": "code",
   "execution_count": 13,
   "metadata": {},
   "outputs": [],
   "source": [
    "#функция,считающая относительные частоты употребления англ. букв при написании на армянском языке (по собранному корпусу)\n",
    "def arm_lat_freq(corp_file):\n",
    "    with open(corp_file, encoding='utf8') as v:\n",
    "        corpus = [(string.rstrip()) for string in v if string.rstrip()]\n",
    "    count_dict = Counter()\n",
    "    for element in corpus:\n",
    "        x = Counter(element.lower())\n",
    "        count_dict = count_dict + x\n",
    "    lat_dict = dict.fromkeys(lat, 0) #пустой словарь, ключи - буквы латиницы, значения - нули\n",
    "    for letter in count_dict:\n",
    "        if letter in lat_dict:\n",
    "            lat_dict[letter] = count_dict[letter]\n",
    "    all_lat = sum(lat_dict.values())\n",
    "    list_of_lat = list(lat_dict.values())\n",
    "    freq_lat = np.array(list_of_lat)/all_lat\n",
    "    return freq_lat"
   ]
  },
  {
   "cell_type": "code",
   "execution_count": 38,
   "metadata": {},
   "outputs": [
    {
     "data": {
      "text/plain": [
       "array([0.14660091, 0.01025046, 0.03800406, 0.02059762, 0.08722561,\n",
       "       0.00077362, 0.01305483, 0.04380621, 0.05831158, 0.00686587,\n",
       "       0.03220191, 0.02021081, 0.0474809 , 0.08751571, 0.03906779,\n",
       "       0.01382845, 0.02011411, 0.08422783, 0.03529639, 0.04467653,\n",
       "       0.04496664, 0.03384586, 0.00116043, 0.01905038, 0.03471618,\n",
       "       0.01614931])"
      ]
     },
     "execution_count": 38,
     "metadata": {},
     "output_type": "execute_result"
    }
   ],
   "source": [
    "arm_lat_freq(corp_file=\"D:\\\\KATE\\\\EDUCATION\\\\MAGA\\\\HSE\\\\կուռսաչիկ\\\\корпусы\\\\arm.txt\")"
   ]
  },
  {
   "cell_type": "code",
   "execution_count": 15,
   "metadata": {},
   "outputs": [],
   "source": [
    "#функция,считающая относительные частоты употребления русских букв при написании на армянском языке (по собранному корпусу)\n",
    "def arm_kir_freq(corp_file):\n",
    "    with open(corp_file, encoding='utf8') as v:\n",
    "        corpus = [(string.rstrip()) for string in v if string.rstrip()]\n",
    "    count_dict = Counter()\n",
    "    for element in corpus:\n",
    "        x = Counter(element.lower())\n",
    "        count_dict = count_dict + x\n",
    "    kir_dict = dict.fromkeys(kir, 0) #пустой словарь, ключи - буквы латиницы, значения - нули\n",
    "    for letter in count_dict:\n",
    "        if letter in kir_dict:\n",
    "            kir_dict[letter] = count_dict[letter]\n",
    "    all_kir = sum(kir_dict.values())\n",
    "    list_of_kir = list(kir_dict.values())\n",
    "    freq_kir = np.array(list_of_kir)/all_kir\n",
    "    return freq_kir"
   ]
  },
  {
   "cell_type": "code",
   "execution_count": 39,
   "metadata": {},
   "outputs": [
    {
     "data": {
      "text/plain": [
       "array([1.27531044e-01, 9.28515494e-03, 3.71406198e-02, 1.02919790e-02,\n",
       "       1.71160085e-02, 1.08177649e-01, 3.35608010e-04, 3.80355744e-03,\n",
       "       1.15225417e-02, 7.24913301e-02, 1.34243204e-03, 4.22866092e-02,\n",
       "       2.84148115e-02, 5.58227990e-02, 8.52444345e-02, 3.80355744e-02,\n",
       "       1.62210538e-02, 8.75936906e-02, 5.14598948e-02, 4.68732520e-02,\n",
       "       4.65376440e-02, 7.83085356e-04, 1.99127419e-02, 3.60219264e-02,\n",
       "       2.11433046e-02, 9.62076295e-03, 1.11869337e-04, 0.00000000e+00,\n",
       "       4.47477346e-04, 2.23738673e-04, 3.02047209e-03, 2.90860275e-03,\n",
       "       8.27833091e-03])"
      ]
     },
     "execution_count": 39,
     "metadata": {},
     "output_type": "execute_result"
    }
   ],
   "source": [
    "arm_kir_freq(corp_file=\"D:\\\\KATE\\\\EDUCATION\\\\MAGA\\\\HSE\\\\կուռսաչիկ\\\\корпусы\\\\арм.txt\")"
   ]
  },
  {
   "cell_type": "code",
   "execution_count": 42,
   "metadata": {},
   "outputs": [],
   "source": [
    "#функция, на съедение которой отправится прибывший пост\n",
    "def post_freq(post):\n",
    "    count_dict = Counter()\n",
    "    x = Counter(post.lower())\n",
    "    count_dict = count_dict + x\n",
    "    if get_layout(post) == 'arm_layout':\n",
    "        return 'Post lang - armenian, layout - armenian'\n",
    "    if get_layout(post) == 'lat_layout': \n",
    "        lat_dict = dict.fromkeys(lat, 0)\n",
    "        for letter in count_dict:\n",
    "            if letter in lat_dict:\n",
    "                lat_dict[letter] = count_dict[letter]\n",
    "        list_of_lat = list(lat_dict.values())\n",
    "        result =  ['lat', np.array(list_of_lat)]\n",
    "    if get_layout(post) == 'kir_layout': \n",
    "        kir_dict = dict.fromkeys(kir, 0)\n",
    "        for letter in count_dict:\n",
    "            if letter in kir_dict:\n",
    "                kir_dict[letter] = count_dict[letter]\n",
    "        list_of_kir = list(kir_dict.values())\n",
    "        result =  ['kir', np.array(list_of_kir)]\n",
    "    return result\n"
   ]
  },
  {
   "cell_type": "code",
   "execution_count": 43,
   "metadata": {},
   "outputs": [
    {
     "data": {
      "text/plain": [
       "['kir',\n",
       " array([5, 1, 3, 0, 2, 1, 0, 2, 0, 1, 0, 0, 2, 2, 0, 0, 1, 6, 0, 0, 0, 0,\n",
       "        0, 1, 0, 1, 0, 0, 3, 0, 2, 0, 0])]"
      ]
     },
     "execution_count": 43,
     "metadata": {},
     "output_type": "execute_result"
    }
   ],
   "source": [
    "a = post_freq(\"ghdlsgjdksfjdjrowytnvxnbv прадыиээц мрешж абвралыдврмралыжвра գյլդյսլֆ\")\n",
    "a"
   ]
  },
  {
   "cell_type": "code",
   "execution_count": 20,
   "metadata": {},
   "outputs": [],
   "source": [
    "o=a[1]"
   ]
  },
  {
   "cell_type": "code",
   "execution_count": 24,
   "metadata": {},
   "outputs": [
    {
     "name": "stderr",
     "output_type": "stream",
     "text": [
      "C:\\Users\\Kate Mamyan\\AppData\\Roaming\\Python\\Python36\\site-packages\\ipykernel_launcher.py:1: RuntimeWarning: divide by zero encountered in log\n",
      "  \"\"\"Entry point for launching an IPython kernel.\n"
     ]
    },
    {
     "data": {
      "text/plain": [
       "array([1.60943791, 0.        , 1.09861229,       -inf, 0.69314718,\n",
       "       0.        ,       -inf, 0.69314718,       -inf, 0.        ,\n",
       "             -inf,       -inf, 0.69314718, 0.69314718,       -inf,\n",
       "             -inf, 0.        , 1.79175947,       -inf,       -inf,\n",
       "             -inf,       -inf,       -inf, 0.        ,       -inf,\n",
       "       0.        ,       -inf,       -inf, 1.09861229,       -inf,\n",
       "       0.69314718,       -inf,       -inf])"
      ]
     },
     "execution_count": 24,
     "metadata": {},
     "output_type": "execute_result"
    }
   ],
   "source": [
    "np.log(o)"
   ]
  },
  {
   "cell_type": "code",
   "execution_count": null,
   "metadata": {},
   "outputs": [],
   "source": []
  }
 ],
 "metadata": {
  "kernelspec": {
   "display_name": "Python 3",
   "language": "python",
   "name": "python3"
  },
  "language_info": {
   "codemirror_mode": {
    "name": "ipython",
    "version": 3
   },
   "file_extension": ".py",
   "mimetype": "text/x-python",
   "name": "python",
   "nbconvert_exporter": "python",
   "pygments_lexer": "ipython3",
   "version": "3.6.4"
  }
 },
 "nbformat": 4,
 "nbformat_minor": 2
}
